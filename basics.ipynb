{
 "cells": [
  {
   "cell_type": "code",
   "execution_count": 1,
   "metadata": {},
   "outputs": [
    {
     "data": {
      "text/plain": [
       "<module 'tensor_dist_viz' from '/home/juanpedroghm/code/tensor_dist_viz/tensor_dist_viz/__init__.py'>"
      ]
     },
     "execution_count": 1,
     "metadata": {},
     "output_type": "execute_result"
    }
   ],
   "source": [
    "import numpy as np\n",
    "import importlib\n",
    "import tensor_dist_viz\n",
    "from tensor_dist_viz.tensor import Tensor\n",
    "from tensor_dist_viz.util import multi2linearIndex\n",
    "from tensor_dist_viz.viz import plotTensor2D, plot2DMesh\n",
    "\n",
    "importlib.reload(tensor_dist_viz)\n"
   ]
  },
  {
   "cell_type": "code",
   "execution_count": 2,
   "metadata": {},
   "outputs": [
    {
     "name": "stdout",
     "output_type": "stream",
     "text": [
      "Order: 2\n",
      "Shape: [3 6]\n",
      "Size: 18\n",
      "[1 0]\n",
      "4\n"
     ]
    }
   ],
   "source": [
    "t = Tensor( (3, 6) )\n",
    "t.info()\n",
    "print(t.linearIndex((0,4)))"
   ]
  },
  {
   "cell_type": "code",
   "execution_count": 13,
   "metadata": {},
   "outputs": [
    {
     "name": "stdout",
     "output_type": "stream",
     "text": [
      "[3]\n",
      "[0 0] : 0 / 4  == 0 (% 3) -> 0.0 == 0\n",
      "[0 1] : 0 / 4  == 1 (% 3) -> 0.0 == 1\n",
      "[0 2] : 0 / 4  == 2 (% 3) -> 0.0 == 2\n",
      "[1 0] : 0 / 4  == 0 (% 3) -> 0.0 == 0\n",
      "[1 1] : 0 / 4  == 1 (% 3) -> 0.0 == 1\n",
      "[1 2] : 0 / 4  == 2 (% 3) -> 0.0 == 2\n",
      "[0 0] : 1 / 4  == 0 (% 3) -> 0.0 == 0\n",
      "[0 1] : 1 / 4  == 1 (% 3) -> 0.0 == 1\n",
      "[0 2] : 1 / 4  == 2 (% 3) -> 0.0 == 2\n",
      "[1 0] : 1 / 4  == 0 (% 3) -> 0.0 == 0\n",
      "[1 1] : 1 / 4  == 1 (% 3) -> 0.0 == 1\n",
      "[1 2] : 1 / 4  == 2 (% 3) -> 0.0 == 2\n",
      "[0 0] : 2 / 4  == 0 (% 3) -> 0.0 == 0\n",
      "[0 1] : 2 / 4  == 1 (% 3) -> 0.0 == 1\n",
      "[0 2] : 2 / 4  == 2 (% 3) -> 0.0 == 2\n",
      "[1 0] : 2 / 4  == 0 (% 3) -> 0.0 == 0\n",
      "[1 1] : 2 / 4  == 1 (% 3) -> 0.0 == 1\n",
      "[1 2] : 2 / 4  == 2 (% 3) -> 0.0 == 2\n",
      "[0 0] : 3 / 4  == 0 (% 3) -> 0.0 == 0\n",
      "[0 1] : 3 / 4  == 1 (% 3) -> 0.0 == 1\n",
      "[0 2] : 3 / 4  == 2 (% 3) -> 0.0 == 2\n",
      "[1 0] : 3 / 4  == 0 (% 3) -> 0.0 == 0\n",
      "[1 1] : 3 / 4  == 1 (% 3) -> 0.0 == 1\n",
      "[1 2] : 3 / 4  == 2 (% 3) -> 0.0 == 2\n",
      "[0 0] : 4 / 4  == 0 (% 3) -> 1.0 == 0\n",
      "[0 1] : 4 / 4  == 1 (% 3) -> 1.0 == 1\n",
      "[0 2] : 4 / 4  == 2 (% 3) -> 1.0 == 2\n",
      "[1 0] : 4 / 4  == 0 (% 3) -> 1.0 == 0\n",
      "[1 1] : 4 / 4  == 1 (% 3) -> 1.0 == 1\n",
      "[1 2] : 4 / 4  == 2 (% 3) -> 1.0 == 2\n",
      "[0 0] : 5 / 4  == 0 (% 3) -> 1.0 == 0\n",
      "[0 1] : 5 / 4  == 1 (% 3) -> 1.0 == 1\n",
      "[0 2] : 5 / 4  == 2 (% 3) -> 1.0 == 2\n",
      "[1 0] : 5 / 4  == 0 (% 3) -> 1.0 == 0\n",
      "[1 1] : 5 / 4  == 1 (% 3) -> 1.0 == 1\n",
      "[1 2] : 5 / 4  == 2 (% 3) -> 1.0 == 2\n",
      "[0 0] : 6 / 4  == 0 (% 3) -> 1.0 == 0\n",
      "[0 1] : 6 / 4  == 1 (% 3) -> 1.0 == 1\n",
      "[0 2] : 6 / 4  == 2 (% 3) -> 1.0 == 2\n",
      "[1 0] : 6 / 4  == 0 (% 3) -> 1.0 == 0\n",
      "[1 1] : 6 / 4  == 1 (% 3) -> 1.0 == 1\n",
      "[1 2] : 6 / 4  == 2 (% 3) -> 1.0 == 2\n",
      "[0 0] : 7 / 4  == 0 (% 3) -> 1.0 == 0\n",
      "[0 1] : 7 / 4  == 1 (% 3) -> 1.0 == 1\n",
      "[0 2] : 7 / 4  == 2 (% 3) -> 1.0 == 2\n",
      "[1 0] : 7 / 4  == 0 (% 3) -> 1.0 == 0\n",
      "[1 1] : 7 / 4  == 1 (% 3) -> 1.0 == 1\n",
      "[1 2] : 7 / 4  == 2 (% 3) -> 1.0 == 2\n",
      "[0 0] : 8 / 4  == 0 (% 3) -> 2.0 == 0\n",
      "[0 1] : 8 / 4  == 1 (% 3) -> 2.0 == 1\n",
      "[0 2] : 8 / 4  == 2 (% 3) -> 2.0 == 2\n",
      "[1 0] : 8 / 4  == 0 (% 3) -> 2.0 == 0\n",
      "[1 1] : 8 / 4  == 1 (% 3) -> 2.0 == 1\n",
      "[1 2] : 8 / 4  == 2 (% 3) -> 2.0 == 2\n",
      "[0 0] : 9 / 4  == 0 (% 3) -> 2.0 == 0\n",
      "[0 1] : 9 / 4  == 1 (% 3) -> 2.0 == 1\n",
      "[0 2] : 9 / 4  == 2 (% 3) -> 2.0 == 2\n",
      "[1 0] : 9 / 4  == 0 (% 3) -> 2.0 == 0\n",
      "[1 1] : 9 / 4  == 1 (% 3) -> 2.0 == 1\n",
      "[1 2] : 9 / 4  == 2 (% 3) -> 2.0 == 2\n",
      "[0 0] : 10 / 4  == 0 (% 3) -> 2.0 == 0\n",
      "[0 1] : 10 / 4  == 1 (% 3) -> 2.0 == 1\n",
      "[0 2] : 10 / 4  == 2 (% 3) -> 2.0 == 2\n",
      "[1 0] : 10 / 4  == 0 (% 3) -> 2.0 == 0\n",
      "[1 1] : 10 / 4  == 1 (% 3) -> 2.0 == 1\n",
      "[1 2] : 10 / 4  == 2 (% 3) -> 2.0 == 2\n",
      "[0 0] : 11 / 4  == 0 (% 3) -> 2.0 == 0\n",
      "[0 1] : 11 / 4  == 1 (% 3) -> 2.0 == 1\n",
      "[0 2] : 11 / 4  == 2 (% 3) -> 2.0 == 2\n",
      "[1 0] : 11 / 4  == 0 (% 3) -> 2.0 == 0\n",
      "[1 1] : 11 / 4  == 1 (% 3) -> 2.0 == 1\n",
      "[1 2] : 11 / 4  == 2 (% 3) -> 2.0 == 2\n",
      "[0 0] : 12 / 4  == 0 (% 3) -> 0.0 == 0\n",
      "[0 1] : 12 / 4  == 1 (% 3) -> 0.0 == 1\n",
      "[0 2] : 12 / 4  == 2 (% 3) -> 0.0 == 2\n",
      "[1 0] : 12 / 4  == 0 (% 3) -> 0.0 == 0\n",
      "[1 1] : 12 / 4  == 1 (% 3) -> 0.0 == 1\n",
      "[1 2] : 12 / 4  == 2 (% 3) -> 0.0 == 2\n",
      "[0 0] : 13 / 4  == 0 (% 3) -> 0.0 == 0\n",
      "[0 1] : 13 / 4  == 1 (% 3) -> 0.0 == 1\n",
      "[0 2] : 13 / 4  == 2 (% 3) -> 0.0 == 2\n",
      "[1 0] : 13 / 4  == 0 (% 3) -> 0.0 == 0\n",
      "[1 1] : 13 / 4  == 1 (% 3) -> 0.0 == 1\n",
      "[1 2] : 13 / 4  == 2 (% 3) -> 0.0 == 2\n",
      "[0 0] : 14 / 4  == 0 (% 3) -> 0.0 == 0\n",
      "[0 1] : 14 / 4  == 1 (% 3) -> 0.0 == 1\n",
      "[0 2] : 14 / 4  == 2 (% 3) -> 0.0 == 2\n",
      "[1 0] : 14 / 4  == 0 (% 3) -> 0.0 == 0\n",
      "[1 1] : 14 / 4  == 1 (% 3) -> 0.0 == 1\n",
      "[1 2] : 14 / 4  == 2 (% 3) -> 0.0 == 2\n",
      "[0 0] : 15 / 4  == 0 (% 3) -> 0.0 == 0\n",
      "[0 1] : 15 / 4  == 1 (% 3) -> 0.0 == 1\n",
      "[0 2] : 15 / 4  == 2 (% 3) -> 0.0 == 2\n",
      "[1 0] : 15 / 4  == 0 (% 3) -> 0.0 == 0\n",
      "[1 1] : 15 / 4  == 1 (% 3) -> 0.0 == 1\n",
      "[1 2] : 15 / 4  == 2 (% 3) -> 0.0 == 2\n",
      "[0 0] : 16 / 4  == 0 (% 3) -> 1.0 == 0\n",
      "[0 1] : 16 / 4  == 1 (% 3) -> 1.0 == 1\n",
      "[0 2] : 16 / 4  == 2 (% 3) -> 1.0 == 2\n",
      "[1 0] : 16 / 4  == 0 (% 3) -> 1.0 == 0\n",
      "[1 1] : 16 / 4  == 1 (% 3) -> 1.0 == 1\n",
      "[1 2] : 16 / 4  == 2 (% 3) -> 1.0 == 2\n",
      "[0 0] : 17 / 4  == 0 (% 3) -> 1.0 == 0\n",
      "[0 1] : 17 / 4  == 1 (% 3) -> 1.0 == 1\n",
      "[0 2] : 17 / 4  == 2 (% 3) -> 1.0 == 2\n",
      "[1 0] : 17 / 4  == 0 (% 3) -> 1.0 == 0\n",
      "[1 1] : 17 / 4  == 1 (% 3) -> 1.0 == 1\n",
      "[1 2] : 17 / 4  == 2 (% 3) -> 1.0 == 2\n",
      "[0 0] : 18 / 4  == 0 (% 3) -> 1.0 == 0\n",
      "[0 1] : 18 / 4  == 1 (% 3) -> 1.0 == 1\n",
      "[0 2] : 18 / 4  == 2 (% 3) -> 1.0 == 2\n",
      "[1 0] : 18 / 4  == 0 (% 3) -> 1.0 == 0\n",
      "[1 1] : 18 / 4  == 1 (% 3) -> 1.0 == 1\n",
      "[1 2] : 18 / 4  == 2 (% 3) -> 1.0 == 2\n",
      "[0 0] : 19 / 4  == 0 (% 3) -> 1.0 == 0\n",
      "[0 1] : 19 / 4  == 1 (% 3) -> 1.0 == 1\n",
      "[0 2] : 19 / 4  == 2 (% 3) -> 1.0 == 2\n",
      "[1 0] : 19 / 4  == 0 (% 3) -> 1.0 == 0\n",
      "[1 1] : 19 / 4  == 1 (% 3) -> 1.0 == 1\n",
      "[1 2] : 19 / 4  == 2 (% 3) -> 1.0 == 2\n"
     ]
    },
    {
     "data": {
      "text/plain": [
       "array([[ True, False, False,  True, False, False],\n",
       "       [ True, False, False,  True, False, False],\n",
       "       [ True, False, False,  True, False, False],\n",
       "       [ True, False, False,  True, False, False],\n",
       "       [False,  True, False, False,  True, False],\n",
       "       [False,  True, False, False,  True, False],\n",
       "       [False,  True, False, False,  True, False],\n",
       "       [False,  True, False, False,  True, False],\n",
       "       [False, False,  True, False, False,  True],\n",
       "       [False, False,  True, False, False,  True],\n",
       "       [False, False,  True, False, False,  True],\n",
       "       [False, False,  True, False, False,  True],\n",
       "       [ True, False, False,  True, False, False],\n",
       "       [ True, False, False,  True, False, False],\n",
       "       [ True, False, False,  True, False, False],\n",
       "       [ True, False, False,  True, False, False],\n",
       "       [False,  True, False, False,  True, False],\n",
       "       [False,  True, False, False,  True, False],\n",
       "       [False,  True, False, False,  True, False],\n",
       "       [False,  True, False, False,  True, False]])"
      ]
     },
     "execution_count": 13,
     "metadata": {},
     "output_type": "execute_result"
    }
   ],
   "source": [
    "from tensor_dist_viz.dist import Distributition\n",
    "\n",
    "mesh = Tensor((2, 3))\n",
    "tensor = Tensor((5,5))\n",
    "d = Distributition(mesh,  ((1,), tuple()) , (4,1))\n",
    "d.distributeAxis(0, 20)"
   ]
  },
  {
   "cell_type": "code",
   "execution_count": 4,
   "metadata": {},
   "outputs": [
    {
     "name": "stdout",
     "output_type": "stream",
     "text": [
      "Order: 2\n",
      "Shape: [3 4]\n",
      "Size: 12\n"
     ]
    },
    {
     "ename": "TypeError",
     "evalue": "plotTensor2D() missing 1 required positional argument: 'dist'",
     "output_type": "error",
     "traceback": [
      "\u001b[0;31m---------------------------------------------------------------------------\u001b[0m",
      "\u001b[0;31mTypeError\u001b[0m                                 Traceback (most recent call last)",
      "Cell \u001b[0;32mIn[4], line 3\u001b[0m\n\u001b[1;32m      1\u001b[0m t \u001b[38;5;241m=\u001b[39m Tensor((\u001b[38;5;241m3\u001b[39m,\u001b[38;5;241m4\u001b[39m))\n\u001b[1;32m      2\u001b[0m t\u001b[38;5;241m.\u001b[39minfo()\n\u001b[0;32m----> 3\u001b[0m \u001b[43mplotTensor2D\u001b[49m\u001b[43m(\u001b[49m\u001b[43mt\u001b[49m\u001b[43m)\u001b[49m\n",
      "\u001b[0;31mTypeError\u001b[0m: plotTensor2D() missing 1 required positional argument: 'dist'"
     ]
    }
   ],
   "source": [
    "t = Tensor((3,4))\n",
    "t.info()\n",
    "plotTensor2D(t)"
   ]
  },
  {
   "cell_type": "markdown",
   "metadata": {},
   "source": []
  },
  {
   "cell_type": "code",
   "execution_count": null,
   "metadata": {},
   "outputs": [],
   "source": [
    "%matplotlib widget\n",
    "mesh = Tensor((4,3))\n",
    "plot2DMesh(mesh)"
   ]
  },
  {
   "cell_type": "code",
   "execution_count": null,
   "metadata": {},
   "outputs": [],
   "source": [
    "%matplotlib widget\n",
    "import matplotlib.pyplot as plt\n",
    "import numpy as np\n",
    "\n",
    "\n",
    "def explode(data):\n",
    "    size = np.array(data.shape)*2\n",
    "    data_e = np.zeros(size - 1, dtype=data.dtype)\n",
    "    data_e[::2, ::2, ::2] = data\n",
    "    return data_e\n",
    "\n",
    "# build up the numpy logo\n",
    "n_voxels = np.zeros((4, 3, 4), dtype=bool)\n",
    "n_voxels[0, 0, :] = True\n",
    "n_voxels[-1, 0, :] = True\n",
    "n_voxels[1, 0, 2] = True\n",
    "n_voxels[2, 0, 1] = True\n",
    "facecolors = np.where(n_voxels, '#FFD65DC0', '#7A88CCC0')\n",
    "edgecolors = np.where(n_voxels, '#BFAB6E', '#7D84A6')\n",
    "filled = np.ones(n_voxels.shape)\n",
    "\n",
    "# upscale the above voxel image, leaving gaps\n",
    "filled_2 = explode(filled)\n",
    "fcolors_2 = explode(facecolors)\n",
    "ecolors_2 = explode(edgecolors)\n",
    "\n",
    "# Shrink the gaps\n",
    "x, y, z = np.indices(np.array(filled_2.shape) + 1).astype(float) // 2\n",
    "x[0::2, :, :] += 0.05\n",
    "y[:, 0::2, :] += 0.05\n",
    "z[:, :, 0::2] += 0.05\n",
    "x[1::2, :, :] += 0.95\n",
    "y[:, 1::2, :] += 0.95\n",
    "z[:, :, 1::2] += 0.95\n",
    "\n",
    "ax = plt.figure().add_subplot(projection='3d')\n",
    "ax.voxels(x, y, z, filled_2, facecolors=fcolors_2, edgecolors=ecolors_2)\n",
    "ax.set_aspect('equal')\n",
    "\n",
    "plt.show()"
   ]
  },
  {
   "cell_type": "code",
   "execution_count": null,
   "metadata": {},
   "outputs": [],
   "source": [
    "import matplotlib as mpl\n",
    "mpl.colormaps[\"gist_rainbow\"].resampled(7)"
   ]
  },
  {
   "cell_type": "markdown",
   "metadata": {},
   "source": []
  },
  {
   "cell_type": "code",
   "execution_count": null,
   "metadata": {},
   "outputs": [],
   "source": [
    "np.unravel_index(7, (3, 6, 4, 7), order='C')"
   ]
  },
  {
   "cell_type": "code",
   "execution_count": null,
   "metadata": {},
   "outputs": [],
   "source": [
    "axis_size = 100\n",
    "block_size = 5\n",
    "nP = 8\n",
    "print(block_size * nP)\n",
    "block_size * nP > axis_size\n",
    "np.ceil(axis_size / nP)\n",
    "\n"
   ]
  },
  {
   "cell_type": "code",
   "execution_count": null,
   "metadata": {},
   "outputs": [],
   "source": []
  }
 ],
 "metadata": {
  "kernelspec": {
   "display_name": "tensor_dist_viz",
   "language": "python",
   "name": "python3"
  },
  "language_info": {
   "codemirror_mode": {
    "name": "ipython",
    "version": 3
   },
   "file_extension": ".py",
   "mimetype": "text/x-python",
   "name": "python",
   "nbconvert_exporter": "python",
   "pygments_lexer": "ipython3",
   "version": "3.12.1"
  }
 },
 "nbformat": 4,
 "nbformat_minor": 2
}
